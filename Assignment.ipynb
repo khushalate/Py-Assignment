{
 "cells": [
  {
   "cell_type": "markdown",
   "metadata": {},
   "source": [
    "# Assignment"
   ]
  },
  {
   "cell_type": "code",
   "execution_count": 1,
   "metadata": {},
   "outputs": [
    {
     "name": "stdout",
     "output_type": "stream",
     "text": [
      "Enter the first string: Khushal\n",
      "The even index letters:  Kuhl\n",
      "The odd index letters:  hsa\n"
     ]
    }
   ],
   "source": [
    "#1. \n",
    "#input = Khushal\n",
    "#output = even - Kuhl\n",
    "          #odd - hsa\n",
    "\n",
    "s1 =input('Enter the first string: ')\n",
    "print('The even index letters: ',s1[::2])\n",
    "print('The odd index letters: ',s1[1::2])\n"
   ]
  },
  {
   "cell_type": "code",
   "execution_count": null,
   "metadata": {},
   "outputs": [],
   "source": [
    "#2. \n",
    "# input - B4A1D3\n",
    "#output - ABD134\n",
    "\n",
    "s = input('Enter some string')\n",
    "s1 = s2 = output = ''\n",
    "for x in s:\n",
    "    if x.isalpha():\n",
    "        s1 = s1 + x\n",
    "    else:\n",
    "        s2 = s2 + x\n",
    "for x in sorted(s1):\n",
    "    output = output+x\n",
    "for x in sorted(s2):\n",
    "    output = output+x\n",
    "print(output)"
   ]
  },
  {
   "cell_type": "code",
   "execution_count": 2,
   "metadata": {},
   "outputs": [
    {
     "name": "stdout",
     "output_type": "stream",
     "text": [
      "Enter some stringa4b3c2\n",
      "aaaabbbcc\n"
     ]
    }
   ],
   "source": [
    "#3.\n",
    "#input - a4b3c2\n",
    "#out - aaaabbbcc\n",
    "s = input('Enter some string')\n",
    "output = ''\n",
    "for x in s:\n",
    "    if x.isalpha():\n",
    "        output = output+x\n",
    "        previous = x\n",
    "    else:\n",
    "        output = output + previous*(int(x)-1)\n",
    "print(output)"
   ]
  },
  {
   "cell_type": "code",
   "execution_count": 7,
   "metadata": {},
   "outputs": [
    {
     "name": "stdout",
     "output_type": "stream",
     "text": [
      "Enter 1st Stringjohn\n",
      "Enter 2nd stringjame\n",
      "jjoahmne\n"
     ]
    }
   ],
   "source": [
    "#4.\n",
    "#input - 'John' & 'Jame'\n",
    "#output - 'JJoahmne'\n",
    "\n",
    "s1 = input('Enter 1st String')\n",
    "s2 = input('Enter 2nd string')\n",
    "output = ''\n",
    "i=j=0\n",
    "while i<len(s1) or j<len(s2):\n",
    "    if i < len(s1):\n",
    "        output = output + s1[i]\n",
    "        i = i+1\n",
    "    if j < len(s2):\n",
    "        output = output + s2[j]\n",
    "        j = j + 1\n",
    "print(output)"
   ]
  },
  {
   "cell_type": "code",
   "execution_count": 10,
   "metadata": {},
   "outputs": [
    {
     "name": "stdout",
     "output_type": "stream",
     "text": [
      "Enter the string and digita4k3b2\n",
      "aeknbd\n"
     ]
    }
   ],
   "source": [
    "#5.\n",
    "#input - a4k3b2\n",
    "#output - aeknbd\n",
    "\n",
    "s = input('Enter the string and digit')\n",
    "output = ''\n",
    "for i in s:\n",
    "    if i.isalpha():\n",
    "        output = output+i\n",
    "        x = i\n",
    "    else:\n",
    "        d = int(i)\n",
    "        newc = chr(ord(x)+d)\n",
    "        output = output+newc\n",
    "print(output)"
   ]
  },
  {
   "cell_type": "code",
   "execution_count": null,
   "metadata": {},
   "outputs": [],
   "source": []
  },
  {
   "cell_type": "code",
   "execution_count": null,
   "metadata": {},
   "outputs": [],
   "source": []
  },
  {
   "cell_type": "code",
   "execution_count": null,
   "metadata": {},
   "outputs": [],
   "source": []
  },
  {
   "cell_type": "code",
   "execution_count": null,
   "metadata": {},
   "outputs": [],
   "source": []
  },
  {
   "cell_type": "code",
   "execution_count": null,
   "metadata": {},
   "outputs": [],
   "source": []
  },
  {
   "cell_type": "code",
   "execution_count": null,
   "metadata": {},
   "outputs": [],
   "source": []
  },
  {
   "cell_type": "code",
   "execution_count": null,
   "metadata": {},
   "outputs": [],
   "source": []
  },
  {
   "cell_type": "code",
   "execution_count": null,
   "metadata": {},
   "outputs": [],
   "source": []
  },
  {
   "cell_type": "code",
   "execution_count": null,
   "metadata": {},
   "outputs": [],
   "source": []
  },
  {
   "cell_type": "code",
   "execution_count": null,
   "metadata": {},
   "outputs": [],
   "source": []
  },
  {
   "cell_type": "code",
   "execution_count": null,
   "metadata": {},
   "outputs": [],
   "source": []
  }
 ],
 "metadata": {
  "kernelspec": {
   "display_name": "Python 3",
   "language": "python",
   "name": "python3"
  },
  "language_info": {
   "codemirror_mode": {
    "name": "ipython",
    "version": 3
   },
   "file_extension": ".py",
   "mimetype": "text/x-python",
   "name": "python",
   "nbconvert_exporter": "python",
   "pygments_lexer": "ipython3",
   "version": "3.7.4"
  }
 },
 "nbformat": 4,
 "nbformat_minor": 2
}
